{
 "cells": [
  {
   "cell_type": "code",
   "execution_count": 1,
   "metadata": {
    "collapsed": false
   },
   "outputs": [
    {
     "name": "stderr",
     "output_type": "stream",
     "text": [
      "/anaconda/lib/python3.5/site-packages/h5py/__init__.py:36: FutureWarning: Conversion of the second argument of issubdtype from `float` to `np.floating` is deprecated. In future, it will be treated as `np.float64 == np.dtype(float).type`.\n",
      "  from ._conv import register_converters as _register_converters\n"
     ]
    }
   ],
   "source": [
    "% matplotlib inline\n",
    "import bayleaf as bf\n",
    "import numpy as np\n",
    "import pymc3 as pm\n",
    "import matplotlib.pylab as plt\n",
    "import theano\n",
    "import theano.tensor as tt"
   ]
  },
  {
   "cell_type": "code",
   "execution_count": 2,
   "metadata": {
    "collapsed": false
   },
   "outputs": [],
   "source": [
    "import pandas as pd\n",
    "FLOAT_EPS = np.finfo(float).eps\n",
    "np.random.seed(34333823)\n",
    "n = 65000\n",
    "## generate gamma frailty according to parameters \\theta^{-1}\n",
    "theta = .510\n",
    "## generate gamma frailty term, ~Γ(θ^{-1},θ), np parameterizes with scale, so\n",
    "### In later versions of this, we merge this within the data generator\n",
    "## functionalize this\n",
    "β1 = np.array([0.63, 0.03])\n",
    "β2 = np.array([0.8, 0.03])\n",
    "β3 = np.array([0.9, 0.03])\n",
    "βs = np.vstack([β1,β2,β3])\n",
    "k=3\n",
    "λk = np.array([0.0047, 0.0037, 0.0057])\n",
    "ρk = np.array([0.716, .725, .73])\n",
    "\n",
    "r_true = .5\n",
    "r_this = .5\n",
    "def sim_simple_covs(n):\n",
    "    sex = np.random.binomial(n=1,p=.5,size =n)\n",
    "    age = np.random.gamma(size=n,  shape = 10, scale = 1/.3)\n",
    "    return(np.array([sex,age]).T)\n",
    "X = sim_simple_covs(n)\n",
    "# Simulate Survival Times, generalize for k categories\n",
    "def sim_weibull_frail_generalized(betas, theta, X, lam, r, rho, maxtime, cens_end, n, k, first = False):\n",
    "    '''\n",
    "    Function to simulate transformed weibull survival times with uniform censoring according to the weibull PH model\n",
    "    Parameters\n",
    "    ----------\n",
    "    betas : effect sizes\n",
    "    lam : scale parameters for different levels (must be dimension kx1)\n",
    "    theta : parameter of gamma distribution of frailties\n",
    "    rho : shape parameters for each level (kx1)\n",
    "    X : covariates\n",
    "    maxtime : maximum study time\n",
    "    r : transformation parameter\n",
    "    k : number of outcomes\n",
    "    first : boolean, do we want to return just the time to first event\n",
    "    '''\n",
    "    w = np.random.gamma(size = n, shape=theta**(-1), scale = theta)\n",
    "    ## from probability integral transform\n",
    "    Te = ((np.exp(-(np.log(np.random.uniform(size=(n,k)))*r)/w[:,None])-1)/(r*lam*np.exp(np.dot(X,betas.T))))**(1/rho)\n",
    "    # Do we want time to first event r?\n",
    "    # generate censoring time, unif and truncated by tau\n",
    "    if first == True:\n",
    "        Cens = 1+cens_end*np.random.uniform(size = n)\n",
    "        Cens[Cens>maxtime] = maxtime\n",
    "        alltimes = np.vstack((Cens,Te.T)).T\n",
    "        eventType = []\n",
    "        for i in range(len(w)):\n",
    "            eventType.append(np.where(alltimes[i,]==np.amin(alltimes[i,]))[0][0])\n",
    "        obs_t = list(np.amin(alltimes,axis = 1))\n",
    "        out = pd.DataFrame(np.array([obs_t, eventType, pd.Series(X[:,[0]][:,0]),pd.Series(X[:,[1]][:,0]),w])).T\n",
    "        # Clean up for the covariates\n",
    "        out.columns = [\"obs_t\", \"eventType\", \"sex\", \"age\", \"sim_frail\"]\n",
    "    else:\n",
    "        Cens = 1+cens_end*np.random.uniform(size = (n,k))\n",
    "        Cens[Cens>maxtime] = maxtime\n",
    "        results = np.repeat(0, n)\n",
    "        names_df = [\"del\"]\n",
    "        # loop over levels\n",
    "        for level in range(k):\n",
    "            obs_t = np.amin(np.array([Te[:,level], Cens[:,level]]).T, axis =1) # observed time\n",
    "            names_df = np.append(names_df, \"time_\"+str(level+1))\n",
    "            delta = (Te[:,level] < Cens[:,level]) + 0 # censoring indicator\n",
    "            names_df = np.append(names_df, \"delta_\"+str(level+1))\n",
    "            results = np.vstack((results, obs_t))\n",
    "            results = pd.DataFrame(np.vstack((results, delta)))\n",
    "        # Names of X\n",
    "        x_names = [\"X_\"+str(j+1) for j in np.arange(X.shape[1])]\n",
    "        names_df = np.append(names_df, x_names)\n",
    "        names_df = np.append(names_df, \"frailty\") # now add frailty\n",
    "        out = pd.DataFrame(np.vstack((results, X.T, w.T)).T)\n",
    "        out.columns = names_df\n",
    "        out = out.iloc[:, out.columns!=\"del\"] # get rid of extra column\n",
    "    return(out)\n",
    "## NOW ACTUALLY GENERATE THE DATA, this is the intitialization step\n",
    "X = sim_simple_covs(n)\n",
    "data = sim_weibull_frail_generalized(betas=βs,\n",
    "                              theta = theta,\n",
    "                              X = X,\n",
    "                              lam = λk,\n",
    "                              rho = ρk,\n",
    "                              maxtime=200,\n",
    "                              cens_end = 300,\n",
    "                              r = r_true ,k=3, first=False, n=n)"
   ]
  },
  {
   "cell_type": "code",
   "execution_count": 3,
   "metadata": {
    "collapsed": false
   },
   "outputs": [
    {
     "data": {
      "text/html": [
       "<div>\n",
       "<style>\n",
       "    .dataframe thead tr:only-child th {\n",
       "        text-align: right;\n",
       "    }\n",
       "\n",
       "    .dataframe thead th {\n",
       "        text-align: left;\n",
       "    }\n",
       "\n",
       "    .dataframe tbody tr th {\n",
       "        vertical-align: top;\n",
       "    }\n",
       "</style>\n",
       "<table border=\"1\" class=\"dataframe\">\n",
       "  <thead>\n",
       "    <tr style=\"text-align: right;\">\n",
       "      <th></th>\n",
       "      <th>time_1</th>\n",
       "      <th>delta_1</th>\n",
       "      <th>time_2</th>\n",
       "      <th>delta_2</th>\n",
       "      <th>time_3</th>\n",
       "      <th>delta_3</th>\n",
       "      <th>X_1</th>\n",
       "      <th>X_2</th>\n",
       "      <th>frailty</th>\n",
       "    </tr>\n",
       "  </thead>\n",
       "  <tbody>\n",
       "    <tr>\n",
       "      <th>0</th>\n",
       "      <td>134.756939</td>\n",
       "      <td>1.0</td>\n",
       "      <td>58.432164</td>\n",
       "      <td>1.0</td>\n",
       "      <td>49.614960</td>\n",
       "      <td>0.0</td>\n",
       "      <td>1.0</td>\n",
       "      <td>31.819014</td>\n",
       "      <td>0.729976</td>\n",
       "    </tr>\n",
       "    <tr>\n",
       "      <th>1</th>\n",
       "      <td>32.784499</td>\n",
       "      <td>0.0</td>\n",
       "      <td>195.742523</td>\n",
       "      <td>0.0</td>\n",
       "      <td>45.805219</td>\n",
       "      <td>1.0</td>\n",
       "      <td>0.0</td>\n",
       "      <td>45.665823</td>\n",
       "      <td>0.517624</td>\n",
       "    </tr>\n",
       "    <tr>\n",
       "      <th>2</th>\n",
       "      <td>73.537195</td>\n",
       "      <td>0.0</td>\n",
       "      <td>9.798205</td>\n",
       "      <td>0.0</td>\n",
       "      <td>5.972532</td>\n",
       "      <td>1.0</td>\n",
       "      <td>0.0</td>\n",
       "      <td>42.286111</td>\n",
       "      <td>1.675335</td>\n",
       "    </tr>\n",
       "    <tr>\n",
       "      <th>3</th>\n",
       "      <td>200.000000</td>\n",
       "      <td>0.0</td>\n",
       "      <td>158.857723</td>\n",
       "      <td>0.0</td>\n",
       "      <td>135.403735</td>\n",
       "      <td>0.0</td>\n",
       "      <td>0.0</td>\n",
       "      <td>21.494183</td>\n",
       "      <td>0.916369</td>\n",
       "    </tr>\n",
       "    <tr>\n",
       "      <th>4</th>\n",
       "      <td>81.772050</td>\n",
       "      <td>0.0</td>\n",
       "      <td>27.412719</td>\n",
       "      <td>1.0</td>\n",
       "      <td>68.090550</td>\n",
       "      <td>1.0</td>\n",
       "      <td>1.0</td>\n",
       "      <td>40.687292</td>\n",
       "      <td>0.272626</td>\n",
       "    </tr>\n",
       "    <tr>\n",
       "      <th>5</th>\n",
       "      <td>200.000000</td>\n",
       "      <td>0.0</td>\n",
       "      <td>51.202725</td>\n",
       "      <td>1.0</td>\n",
       "      <td>200.000000</td>\n",
       "      <td>0.0</td>\n",
       "      <td>0.0</td>\n",
       "      <td>30.666874</td>\n",
       "      <td>0.228618</td>\n",
       "    </tr>\n",
       "    <tr>\n",
       "      <th>6</th>\n",
       "      <td>46.798055</td>\n",
       "      <td>0.0</td>\n",
       "      <td>21.836535</td>\n",
       "      <td>0.0</td>\n",
       "      <td>200.000000</td>\n",
       "      <td>0.0</td>\n",
       "      <td>1.0</td>\n",
       "      <td>19.744297</td>\n",
       "      <td>0.118339</td>\n",
       "    </tr>\n",
       "    <tr>\n",
       "      <th>7</th>\n",
       "      <td>7.733794</td>\n",
       "      <td>1.0</td>\n",
       "      <td>8.838422</td>\n",
       "      <td>1.0</td>\n",
       "      <td>19.753714</td>\n",
       "      <td>1.0</td>\n",
       "      <td>0.0</td>\n",
       "      <td>32.003297</td>\n",
       "      <td>1.145173</td>\n",
       "    </tr>\n",
       "    <tr>\n",
       "      <th>8</th>\n",
       "      <td>158.582451</td>\n",
       "      <td>0.0</td>\n",
       "      <td>200.000000</td>\n",
       "      <td>0.0</td>\n",
       "      <td>124.722063</td>\n",
       "      <td>1.0</td>\n",
       "      <td>1.0</td>\n",
       "      <td>21.724243</td>\n",
       "      <td>0.407463</td>\n",
       "    </tr>\n",
       "    <tr>\n",
       "      <th>9</th>\n",
       "      <td>45.786483</td>\n",
       "      <td>0.0</td>\n",
       "      <td>11.034827</td>\n",
       "      <td>1.0</td>\n",
       "      <td>200.000000</td>\n",
       "      <td>0.0</td>\n",
       "      <td>0.0</td>\n",
       "      <td>34.683112</td>\n",
       "      <td>0.553351</td>\n",
       "    </tr>\n",
       "  </tbody>\n",
       "</table>\n",
       "</div>"
      ],
      "text/plain": [
       "       time_1  delta_1      time_2  delta_2      time_3  delta_3  X_1  \\\n",
       "0  134.756939      1.0   58.432164      1.0   49.614960      0.0  1.0   \n",
       "1   32.784499      0.0  195.742523      0.0   45.805219      1.0  0.0   \n",
       "2   73.537195      0.0    9.798205      0.0    5.972532      1.0  0.0   \n",
       "3  200.000000      0.0  158.857723      0.0  135.403735      0.0  0.0   \n",
       "4   81.772050      0.0   27.412719      1.0   68.090550      1.0  1.0   \n",
       "5  200.000000      0.0   51.202725      1.0  200.000000      0.0  0.0   \n",
       "6   46.798055      0.0   21.836535      0.0  200.000000      0.0  1.0   \n",
       "7    7.733794      1.0    8.838422      1.0   19.753714      1.0  0.0   \n",
       "8  158.582451      0.0  200.000000      0.0  124.722063      1.0  1.0   \n",
       "9   45.786483      0.0   11.034827      1.0  200.000000      0.0  0.0   \n",
       "\n",
       "         X_2   frailty  \n",
       "0  31.819014  0.729976  \n",
       "1  45.665823  0.517624  \n",
       "2  42.286111  1.675335  \n",
       "3  21.494183  0.916369  \n",
       "4  40.687292  0.272626  \n",
       "5  30.666874  0.228618  \n",
       "6  19.744297  0.118339  \n",
       "7  32.003297  1.145173  \n",
       "8  21.724243  0.407463  \n",
       "9  34.683112  0.553351  "
      ]
     },
     "execution_count": 3,
     "metadata": {},
     "output_type": "execute_result"
    }
   ],
   "source": [
    "data.head(10)"
   ]
  },
  {
   "cell_type": "code",
   "execution_count": 4,
   "metadata": {
    "collapsed": false
   },
   "outputs": [
    {
     "name": "stderr",
     "output_type": "stream",
     "text": [
      "logp = -4.4737e+05, ||grad|| = 378.12: 100%|██████████| 515/515 [00:49<00:00, 10.50it/s] \n"
     ]
    }
   ],
   "source": [
    "with pm.Model() as m1:\n",
    "    bf.Frailty.from_formula('([time_1, time_2, time_3],[delta_1, delta_2, delta_3])~X_1+X_2-1', data = data)\n",
    "    MAP_this = pm.find_MAP()"
   ]
  },
  {
   "cell_type": "code",
   "execution_count": 5,
   "metadata": {
    "collapsed": false
   },
   "outputs": [
    {
     "data": {
      "text/plain": [
       "{'X_1_0': array(0.64311844),\n",
       " 'X_1_1': array(0.80347756),\n",
       " 'X_1_2': array(0.91573318),\n",
       " 'X_2_0': array(0.02997284),\n",
       " 'X_2_1': array(0.03073008),\n",
       " 'X_2_2': array(0.03146077),\n",
       " 'lam_0': array(0.00475415),\n",
       " 'lam_0_log__': array(-5.34873708),\n",
       " 'lam_1': array(0.00366637),\n",
       " 'lam_1_log__': array(-5.60855202),\n",
       " 'lam_2': array(0.00523756),\n",
       " 'lam_2_log__': array(-5.25189937),\n",
       " 'r_0': array(0.50356867),\n",
       " 'r_0_log__': array(-0.68603519),\n",
       " 'r_1': array(0.50092034),\n",
       " 'r_1_log__': array(-0.69130818),\n",
       " 'r_2': array(0.48964521),\n",
       " 'r_2_log__': array(-0.71407421),\n",
       " 'rho_0': array(0.71292791),\n",
       " 'rho_0_log__': array(-0.33837497),\n",
       " 'rho_1': array(0.72029065),\n",
       " 'rho_1_log__': array(-0.32810046),\n",
       " 'rho_2': array(0.73524957),\n",
       " 'rho_2_log__': array(-0.30754529),\n",
       " 'theta': array(0.50605841),\n",
       " 'theta_log__': array(-0.68110319)}"
      ]
     },
     "execution_count": 5,
     "metadata": {},
     "output_type": "execute_result"
    }
   ],
   "source": [
    "MAP_this"
   ]
  },
  {
   "cell_type": "code",
   "execution_count": 6,
   "metadata": {
    "collapsed": false
   },
   "outputs": [
    {
     "name": "stdout",
     "output_type": "stream",
     "text": [
      "================================================================\n",
      "Formula Call: ([time_1, time_2, time_3],[delta_1, delta_2, delta_3])~X_1+X_2-1\n",
      "Dimension of Outcome Variable: 3\n",
      "Covariates in Model: ['X_1', 'X_2']\n",
      "Percent Censored in Each Direction:\n",
      "time_1: 0.6522\n",
      "time_2: 0.6739846153846154\n",
      "time_3: 0.5690307692307692\n",
      "Minibatch Size: False\n",
      "================================================================\n",
      "<TensorType(float64, matrix)>\n"
     ]
    },
    {
     "name": "stderr",
     "output_type": "stream",
     "text": [
      "logp = -4.4737e+05, ||grad|| = 1,011.3: 100%|██████████| 321/321 [00:28<00:00, 11.15it/s] \n"
     ]
    }
   ],
   "source": [
    "with pm.Model() as m2:\n",
    "    bf.Frailty_FixMAP.from_formula('([time_1, time_2, time_3],[delta_1, delta_2, delta_3])~X_1+X_2-1', \n",
    "                                   data = data, MAP = MAP_this)\n",
    "    MAP2 = pm.find_MAP()"
   ]
  },
  {
   "cell_type": "code",
   "execution_count": null,
   "metadata": {
    "collapsed": false
   },
   "outputs": [
    {
     "name": "stdout",
     "output_type": "stream",
     "text": [
      "================================================================\n",
      "Formula Call: ([time_1, time_2, time_3],[delta_1, delta_2, delta_3])~X_1+X_2-1\n",
      "Dimension of Outcome Variable: 3\n",
      "Covariates in Model: ['X_1', 'X_2']\n",
      "Percent Censored in Each Direction:\n",
      "time_1: 0.6522\n",
      "time_2: 0.6739846153846154\n",
      "time_3: 0.5690307692307692\n",
      "Minibatch Size: 20000\n",
      "================================================================\n",
      "<TensorType(float64, matrix)>\n",
      "We're Mini batching\n"
     ]
    },
    {
     "name": "stderr",
     "output_type": "stream",
     "text": [
      "Average Loss = 1.5132e+06:   1%|          | 553/50000 [00:14<21:30, 38.30it/s]"
     ]
    }
   ],
   "source": [
    "with pm.Model() as m3:\n",
    "    bf.Frailty_FixMAP.from_formula('([time_1, time_2, time_3],[delta_1, delta_2, delta_3])~X_1+X_2-1', \n",
    "                                   data = data, MAP = MAP_this, minibatch =20000)    \n",
    "    approx = pm.fit(50000, method = pm.FullRankADVI(), start = MAP2)\n"
   ]
  },
  {
   "cell_type": "code",
   "execution_count": null,
   "metadata": {
    "collapsed": false
   },
   "outputs": [],
   "source": []
  },
  {
   "cell_type": "code",
   "execution_count": 18,
   "metadata": {
    "collapsed": false
   },
   "outputs": [
    {
     "data": {
      "text/plain": [
       "[<matplotlib.lines.Line2D at 0x1c22f71b00>]"
      ]
     },
     "execution_count": 18,
     "metadata": {},
     "output_type": "execute_result"
    },
    {
     "data": {
      "image/png": "[encoded data removed]",
      "text/plain": [
       "<Figure size 600x400 with 1 Axes>"
      ]
     },
     "metadata": {},
     "output_type": "display_data"
    }
   ],
   "source": [
    "plt.plot(-approx.hist[3000:])"
   ]
  },
  {
   "cell_type": "code",
   "execution_count": 19,
   "metadata": {
    "collapsed": true
   },
   "outputs": [],
   "source": [
    "with m3:\n",
    "    variational_trace_save = approx.sample(5000)"
   ]
  },
  {
   "cell_type": "code",
   "execution_count": 20,
   "metadata": {
    "collapsed": false
   },
   "outputs": [
    {
     "data": {
      "text/html": [
       "<div>\n",
       "<style>\n",
       "    .dataframe thead tr:only-child th {\n",
       "        text-align: right;\n",
       "    }\n",
       "\n",
       "    .dataframe thead th {\n",
       "        text-align: left;\n",
       "    }\n",
       "\n",
       "    .dataframe tbody tr th {\n",
       "        vertical-align: top;\n",
       "    }\n",
       "</style>\n",
       "<table border=\"1\" class=\"dataframe\">\n",
       "  <thead>\n",
       "    <tr style=\"text-align: right;\">\n",
       "      <th></th>\n",
       "      <th>mean</th>\n",
       "      <th>sd</th>\n",
       "      <th>mc_error</th>\n",
       "      <th>hpd_2.5</th>\n",
       "      <th>hpd_97.5</th>\n",
       "    </tr>\n",
       "  </thead>\n",
       "  <tbody>\n",
       "    <tr>\n",
       "      <th>X_1_0</th>\n",
       "      <td>0.644022</td>\n",
       "      <td>0.017296</td>\n",
       "      <td>0.000234</td>\n",
       "      <td>0.609814</td>\n",
       "      <td>0.677470</td>\n",
       "    </tr>\n",
       "    <tr>\n",
       "      <th>X_2_0</th>\n",
       "      <td>0.030220</td>\n",
       "      <td>0.001604</td>\n",
       "      <td>0.000023</td>\n",
       "      <td>0.027185</td>\n",
       "      <td>0.033460</td>\n",
       "    </tr>\n",
       "    <tr>\n",
       "      <th>X_1_1</th>\n",
       "      <td>0.803943</td>\n",
       "      <td>0.020973</td>\n",
       "      <td>0.000300</td>\n",
       "      <td>0.762222</td>\n",
       "      <td>0.844233</td>\n",
       "    </tr>\n",
       "    <tr>\n",
       "      <th>X_2_1</th>\n",
       "      <td>0.031078</td>\n",
       "      <td>0.000619</td>\n",
       "      <td>0.000009</td>\n",
       "      <td>0.029810</td>\n",
       "      <td>0.032260</td>\n",
       "    </tr>\n",
       "    <tr>\n",
       "      <th>X_1_2</th>\n",
       "      <td>0.907548</td>\n",
       "      <td>0.020003</td>\n",
       "      <td>0.000265</td>\n",
       "      <td>0.865986</td>\n",
       "      <td>0.943774</td>\n",
       "    </tr>\n",
       "    <tr>\n",
       "      <th>X_2_2</th>\n",
       "      <td>0.030140</td>\n",
       "      <td>0.001297</td>\n",
       "      <td>0.000018</td>\n",
       "      <td>0.027595</td>\n",
       "      <td>0.032628</td>\n",
       "    </tr>\n",
       "    <tr>\n",
       "      <th>lam_0</th>\n",
       "      <td>0.004774</td>\n",
       "      <td>0.000184</td>\n",
       "      <td>0.000003</td>\n",
       "      <td>0.004420</td>\n",
       "      <td>0.005146</td>\n",
       "    </tr>\n",
       "    <tr>\n",
       "      <th>rho_0</th>\n",
       "      <td>0.715137</td>\n",
       "      <td>0.005567</td>\n",
       "      <td>0.000080</td>\n",
       "      <td>0.704731</td>\n",
       "      <td>0.726482</td>\n",
       "    </tr>\n",
       "    <tr>\n",
       "      <th>lam_1</th>\n",
       "      <td>0.003745</td>\n",
       "      <td>0.000169</td>\n",
       "      <td>0.000003</td>\n",
       "      <td>0.003405</td>\n",
       "      <td>0.004061</td>\n",
       "    </tr>\n",
       "    <tr>\n",
       "      <th>rho_1</th>\n",
       "      <td>0.719367</td>\n",
       "      <td>0.005900</td>\n",
       "      <td>0.000086</td>\n",
       "      <td>0.707983</td>\n",
       "      <td>0.730917</td>\n",
       "    </tr>\n",
       "    <tr>\n",
       "      <th>lam_2</th>\n",
       "      <td>0.005388</td>\n",
       "      <td>0.000226</td>\n",
       "      <td>0.000003</td>\n",
       "      <td>0.004941</td>\n",
       "      <td>0.005819</td>\n",
       "    </tr>\n",
       "    <tr>\n",
       "      <th>rho_2</th>\n",
       "      <td>0.732709</td>\n",
       "      <td>0.004649</td>\n",
       "      <td>0.000064</td>\n",
       "      <td>0.722911</td>\n",
       "      <td>0.741244</td>\n",
       "    </tr>\n",
       "    <tr>\n",
       "      <th>theta</th>\n",
       "      <td>0.511281</td>\n",
       "      <td>0.010301</td>\n",
       "      <td>0.000157</td>\n",
       "      <td>0.491732</td>\n",
       "      <td>0.531511</td>\n",
       "    </tr>\n",
       "  </tbody>\n",
       "</table>\n",
       "</div>"
      ],
      "text/plain": [
       "           mean        sd  mc_error   hpd_2.5  hpd_97.5\n",
       "X_1_0  0.644022  0.017296  0.000234  0.609814  0.677470\n",
       "X_2_0  0.030220  0.001604  0.000023  0.027185  0.033460\n",
       "X_1_1  0.803943  0.020973  0.000300  0.762222  0.844233\n",
       "X_2_1  0.031078  0.000619  0.000009  0.029810  0.032260\n",
       "X_1_2  0.907548  0.020003  0.000265  0.865986  0.943774\n",
       "X_2_2  0.030140  0.001297  0.000018  0.027595  0.032628\n",
       "lam_0  0.004774  0.000184  0.000003  0.004420  0.005146\n",
       "rho_0  0.715137  0.005567  0.000080  0.704731  0.726482\n",
       "lam_1  0.003745  0.000169  0.000003  0.003405  0.004061\n",
       "rho_1  0.719367  0.005900  0.000086  0.707983  0.730917\n",
       "lam_2  0.005388  0.000226  0.000003  0.004941  0.005819\n",
       "rho_2  0.732709  0.004649  0.000064  0.722911  0.741244\n",
       "theta  0.511281  0.010301  0.000157  0.491732  0.531511"
      ]
     },
     "execution_count": 20,
     "metadata": {},
     "output_type": "execute_result"
    }
   ],
   "source": [
    "pm.summary(variational_trace_save)"
   ]
  },
  {
   "cell_type": "code",
   "execution_count": 18,
   "metadata": {
    "collapsed": true
   },
   "outputs": [],
   "source": [
    "# Copula \n",
    "\n",
    "# Test Copula Model\n",
    "# Im\n",
    "## Generated Dataset\n",
    "import pandas as pd\n",
    "n = 5000\n",
    "β1 = np.array([1.63, 0.03])\n",
    "β2 = np.array([0.8, 0.03])\n",
    "#β3 = np.array([0.9, 0.03])\n",
    "βs = np.vstack([β1,β2])\n",
    "λk = np.array([0.0047, 0.0037])\n",
    "ρk = np.array([0.716, .725])\n",
    "def sim_simple_covs(n):\n",
    "    sex = np.random.binomial(n=1,p=.5,size =n)\n",
    "    age = np.random.gamma(size=n,  shape = 10, scale = 1/.3)\n",
    "    return(np.array([sex,age]).T)\n",
    "\n",
    "X = sim_simple_covs(n)\n",
    "exp_1 = np.exp(np.dot(X,βs.T))[:,0]\n",
    "exp_2 = np.exp(np.dot(X,βs.T))[:,1]\n",
    "\n",
    "α = 3.210\n",
    "λ_s = λk[0]\n",
    "ρ_s = ρk[0]\n",
    "r_s =0.5\n",
    "\n",
    "λ_t = λk[1]\n",
    "ρ_t = ρk[1]\n",
    "r_t =1.5\n",
    "\n",
    "U_s = np.random.uniform(size=n)\n",
    "S = ((U_s**(-r_s)-1)/(r_s*exp_1*λ_s))**(1/ρ_s)\n",
    "U_t = np.random.uniform(size=n)\n",
    "S_T = ((U_t**(-(α)/(α+1))-1)*(U_s)**(-α)+1)**(-α**(-1))\n",
    "T = ((S_T**(-r_t)-1)/(r_t*exp_2*λ_t))**(1/ρ_t)\n",
    "\n",
    "Te = np.vstack([S,T]).T\n",
    "cens_end = 7500\n",
    "maxtime = 500\n",
    "Cens = 1+cens_end*np.random.uniform(size = (n,2))\n",
    "Cens[Cens>maxtime] = maxtime\n",
    "\n",
    "Cens = 1+cens_end*np.random.uniform(size = (n,2))\n",
    "Cens[Cens>maxtime] = maxtime\n",
    "results = np.repeat(0, n)\n",
    "names_df = [\"del\"]\n",
    "# loop over levels\n",
    "for level in range(2):\n",
    "    obs_t = np.amin(np.array([Te[:,level], Cens[:,level]]).T, axis =1) # observed time\n",
    "    names_df = np.append(names_df, \"time_\"+str(level+1))\n",
    "    delta = (Te[:,level] < Cens[:,level]) + 0 # censoring indicator\n",
    "    names_df = np.append(names_df, \"delta_\"+str(level+1))\n",
    "    results = np.vstack((results, obs_t))\n",
    "    results = pd.DataFrame(np.vstack((results, delta)))\n",
    "#\n",
    "x_names = [\"X_\"+str(j+1) for j in np.arange(X.shape[1])]\n",
    "names_df = np.append(names_df, x_names)\n",
    "#names_df = np.append(names_df, \"frailty\") # now add frailty\n",
    "out = pd.DataFrame(np.vstack((results, X.T)).T)\n",
    "out.columns = names_df\n",
    "out = out.iloc[:, out.columns!=\"del\"]\n",
    "\n"
   ]
  },
  {
   "cell_type": "code",
   "execution_count": 19,
   "metadata": {
    "collapsed": false
   },
   "outputs": [
    {
     "name": "stderr",
     "output_type": "stream",
     "text": [
      "logp = -37,998, ||grad|| = 240.96: 100%|██████████| 288/288 [00:04<00:00, 65.23it/s] \n"
     ]
    }
   ],
   "source": [
    "with bf.pm.Model() as test_run:\n",
    "    bf.Copula.from_formula(formula = \"([time_1, time_2],[delta_1, delta_2])~X_1+X_2-1\", data = out, family = \"clayton_trans\")\n",
    "    MAP = bf.pm.find_MAP()\n"
   ]
  },
  {
   "cell_type": "code",
   "execution_count": 21,
   "metadata": {
    "collapsed": false
   },
   "outputs": [
    {
     "data": {
      "text/plain": [
       "{'X_1_1': array(1.33391109),\n",
       " 'X_1_2': array(0.77393521),\n",
       " 'X_2_1': array(0.02430971),\n",
       " 'X_2_2': array(0.0284506),\n",
       " 'alpha': array(3.53520402),\n",
       " 'alpha_log__': array(1.26277101),\n",
       " 'lam_1': array(0.00884076),\n",
       " 'lam_1_log__': array(-4.72838212),\n",
       " 'lam_2': array(0.00388419),\n",
       " 'lam_2_log__': array(-5.5508403),\n",
       " 'r_1': array(0.01557235),\n",
       " 'r_1_log__': array(-4.16225827),\n",
       " 'r_2': array(1.37917699),\n",
       " 'r_2_log__': array(0.32148693),\n",
       " 'rho_1': array(0.59916356),\n",
       " 'rho_1_log__': array(-0.51222066),\n",
       " 'rho_2': array(0.702151),\n",
       " 'rho_2_log__': array(-0.3536068)}"
      ]
     },
     "execution_count": 21,
     "metadata": {},
     "output_type": "execute_result"
    }
   ],
   "source": [
    "MAP"
   ]
  },
  {
   "cell_type": "code",
   "execution_count": 22,
   "metadata": {
    "collapsed": false
   },
   "outputs": [
    {
     "name": "stderr",
     "output_type": "stream",
     "text": [
      "100%|██████████| 8000/8000 [1:14:07<00:00,  1.80it/s]\n"
     ]
    }
   ],
   "source": [
    "with test_run:\n",
    "    trace = bf.pm.sample(2000, tune =6000, start =MAP, seed=seed)"
   ]
  },
  {
   "cell_type": "code",
   "execution_count": 23,
   "metadata": {
    "collapsed": false
   },
   "outputs": [
    {
     "name": "stdout",
     "output_type": "stream",
     "text": [
      "\\begin{tabular}{cccccc}\n",
      "\\toprule\n",
      "{} &   mean &     sd &  mc_error &  hpd_2.5 &  hpd_97.5 &     n_eff &  Rhat \\\\\n",
      "\\midrule\n",
      "X_1_1 &  1.602 &  0.051 &     0.001 &    1.502 &     1.705 &  1971.755 &   1.0 \\\\\n",
      "X_2_1 &  0.029 &  0.002 &     0.000 &    0.026 &     0.032 &  2288.539 &   1.0 \\\\\n",
      "X_1_2 &  0.806 &  0.059 &     0.001 &    0.692 &     0.925 &  2346.669 &   1.0 \\\\\n",
      "X_2_2 &  0.028 &  0.003 &     0.000 &    0.023 &     0.033 &  2296.181 &   1.0 \\\\\n",
      "lam_2 &  0.004 &  0.001 &     0.000 &    0.003 &     0.005 &  1700.584 &   1.0 \\\\\n",
      "lam_1 &  0.005 &  0.001 &     0.000 &    0.004 &     0.006 &  1735.984 &   1.0 \\\\\n",
      "alpha &  3.399 &  0.105 &     0.002 &    3.191 &     3.604 &  3019.516 &   1.0 \\\\\n",
      "r_1   &  0.403 &  0.057 &     0.001 &    0.294 &     0.517 &  1904.724 &   1.0 \\\\\n",
      "rho_2 &  0.689 &  0.023 &     0.001 &    0.643 &     0.734 &  1723.674 &   1.0 \\\\\n",
      "rho_1 &  0.692 &  0.016 &     0.000 &    0.661 &     0.723 &  1748.297 &   1.0 \\\\\n",
      "r_2   &  1.178 &  0.177 &     0.004 &    0.842 &     1.514 &  1831.256 &   1.0 \\\\\n",
      "\\bottomrule\n",
      "\\end{tabular}\n",
      "\n"
     ]
    }
   ],
   "source": [
    "results = round(pm.summary(trace),3)\n",
    "print(results.to_latex(escape=False,column_format='cccccc',index=True,))\n"
   ]
  },
  {
   "cell_type": "code",
   "execution_count": null,
   "metadata": {
    "collapsed": true
   },
   "outputs": [],
   "source": []
  }
 ],
 "metadata": {
  "kernelspec": {
   "display_name": "Python 3",
   "language": "python",
   "name": "python3"
  },
  "language_info": {
   "codemirror_mode": {
    "name": "ipython",
    "version": 3
   },
   "file_extension": ".py",
   "mimetype": "text/x-python",
   "name": "python",
   "nbconvert_exporter": "python",
   "pygments_lexer": "ipython3",
   "version": "3.5.2"
  }
 },
 "nbformat": 4,
 "nbformat_minor": 2
}
